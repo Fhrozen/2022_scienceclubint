{
 "cells": [
  {
   "cell_type": "markdown",
   "id": "3f712b82",
   "metadata": {},
   "source": [
    "# Introduction to Python"
   ]
  },
  {
   "cell_type": "markdown",
   "id": "2ac33f91",
   "metadata": {},
   "source": [
    "In this notebook, we will review some basic concepts of Python and how we can program.\n",
    "(This notebook was written using the following video: https://www.youtube.com/watch?v=gOR9qZ3ZgwA)"
   ]
  },
  {
   "cell_type": "markdown",
   "id": "ce6136c8",
   "metadata": {},
   "source": [
    "Let's start with a \"Hello World\":"
   ]
  },
  {
   "cell_type": "code",
   "execution_count": null,
   "id": "8ea871fd",
   "metadata": {},
   "outputs": [],
   "source": [
    "# print()"
   ]
  },
  {
   "cell_type": "markdown",
   "id": "8effb30d",
   "metadata": {},
   "source": [
    "## Variables y Operations"
   ]
  },
  {
   "cell_type": "markdown",
   "id": "a8de4a55",
   "metadata": {},
   "source": [
    "Remember: a variable is declared at the left side and the value is assigned at the right value.\n",
    "This value can be numeric/text/result of a operation/etc."
   ]
  },
  {
   "cell_type": "code",
   "execution_count": null,
   "id": "5b48f30e",
   "metadata": {},
   "outputs": [],
   "source": [
    "variable =\n",
    "print(variable)"
   ]
  },
  {
   "cell_type": "markdown",
   "id": "1cb9115e",
   "metadata": {},
   "source": [
    "Now, let's replace the names of the following variables with the name you want to and\n",
    "assign numeric values (integer or floats) to the variables:"
   ]
  },
  {
   "cell_type": "code",
   "execution_count": null,
   "id": "eb6bf318",
   "metadata": {},
   "outputs": [],
   "source": [
    "my_var1 = \n",
    "my_var2 = \n",
    "my_var3 = my_var1 + my_var2\n",
    "print(my_var3)"
   ]
  },
  {
   "cell_type": "markdown",
   "id": "df45d1cc",
   "metadata": {},
   "source": [
    "Using the previous example, replace the variables with string values"
   ]
  },
  {
   "cell_type": "code",
   "execution_count": null,
   "id": "4b4e3d64",
   "metadata": {},
   "outputs": [],
   "source": [
    "# Write the variable again in this cell"
   ]
  },
  {
   "cell_type": "markdown",
   "id": "1b5a6601",
   "metadata": {},
   "source": [
    "There are a type of special variables named lists (list) and dictionaries (dict):\n",
    "These commands will be useful for following exercises."
   ]
  },
  {
   "cell_type": "markdown",
   "id": "2bd05f4c",
   "metadata": {},
   "source": [
    "**list**: collections which can allocate multiple variables or values. Brackets are employed to declare it."
   ]
  },
  {
   "cell_type": "code",
   "execution_count": null,
   "id": "f1533120",
   "metadata": {},
   "outputs": [],
   "source": [
    "mi_lista = [, , , , ,]\n",
    "print(mi_lista)\n",
    "print(mi_lista[0])"
   ]
  },
  {
   "cell_type": "markdown",
   "id": "af941959",
   "metadata": {},
   "source": [
    "**dict**: like list, it is a data collection which allocate values using a key and the value, like a map. Use curly braces to declare it.\n",
    "Ej: a = {'key': value}"
   ]
  },
  {
   "cell_type": "code",
   "execution_count": null,
   "id": "4a05b690",
   "metadata": {},
   "outputs": [],
   "source": [
    "mi_diccionario = {\n",
    "    'key1': ,\n",
    "    'key2': ,\n",
    "    'key3': ,\n",
    "}\n",
    "print(mi_diccionario)\n",
    "print(mi_diccionario['valor_1'])"
   ]
  },
  {
   "cell_type": "markdown",
   "id": "1d636426",
   "metadata": {},
   "source": [
    "## Conditions"
   ]
  },
  {
   "cell_type": "markdown",
   "id": "a9279419",
   "metadata": {},
   "source": [
    "In Python, **if** conditional is a tool that controls the flow of the code.\n",
    "They are well-known and support logic conditions.\n",
    "\n",
    "Example:\n",
    "```python\n",
    "if (10 == 11):\n",
    "    print('ten is equal to eleven')\n",
    "else:\n",
    "    print('ten is not equal to even')\n",
    "```\n"
   ]
  },
  {
   "cell_type": "code",
   "execution_count": null,
   "id": "fa6b5d4d",
   "metadata": {},
   "outputs": [],
   "source": [
    "var1 =\n",
    "var2 =\n",
    "if ():\n",
    "    # Execute if true\n",
    "else:\n",
    "    # Execute if false."
   ]
  },
  {
   "cell_type": "markdown",
   "id": "adbe587a",
   "metadata": {},
   "source": [
    "You can use **elif** for nested conditions to define each condition.\n",
    "_We will use the input command to test the condition_"
   ]
  },
  {
   "cell_type": "code",
   "execution_count": null,
   "id": "04779ac2",
   "metadata": {},
   "outputs": [],
   "source": [
    "valor_usuario = input(\"Type a numeric value\")\n",
    "\n",
    "if (valor_usuario % 2 == 0):\n",
    "    print('The value is divisible by 2')\n",
    "elif (valor_usuario % 3 == 0):\n",
    "    print('The value is divisible by 3')\n",
    "elif (valor_usuario % 5 == 0):\n",
    "    print('The value is divisible by 5')\n",
    "elif (valor_usuario % 7 == 0):\n",
    "    print('The value is divisible by 7')\n",
    "else:\n",
    "    print('The value is not divisible by any number lower than 8')"
   ]
  },
  {
   "cell_type": "markdown",
   "id": "b3f119ab",
   "metadata": {},
   "source": [
    "From version 3.10 (Python), you can replace the previous code using the command **match**"
   ]
  },
  {
   "cell_type": "markdown",
   "id": "4b2d4eef",
   "metadata": {},
   "source": [
    "## Loops (For y While)"
   ]
  },
  {
   "cell_type": "markdown",
   "id": "ad8cc635",
   "metadata": {},
   "source": [
    "\n",
    "The loops are command for flow control that iterates over a sequences.\n",
    "A list or a dictionary are sequences.\n",
    "Ej.: **For**\n",
    "```python\n",
    "mi_lista = ['strawberry', 'grapes', 'mikan']\n",
    "for mi_valor in mi_lista:\n",
    "    print(f'I like {mi_valor}')\n",
    "```"
   ]
  },
  {
   "cell_type": "code",
   "execution_count": null,
   "id": "6c2bb41a",
   "metadata": {},
   "outputs": [],
   "source": [
    "# Write your own list"
   ]
  },
  {
   "cell_type": "markdown",
   "id": "fe774c60",
   "metadata": {},
   "source": [
    "The are additional commands that can be employed with **for**"
   ]
  },
  {
   "cell_type": "markdown",
   "id": "c73d5c61",
   "metadata": {},
   "source": [
    "### Range"
   ]
  },
  {
   "cell_type": "markdown",
   "id": "fd937e46",
   "metadata": {},
   "source": [
    "Range is un generator, and return numeric values in ascending or descending sequence.  \n",
    "Ej.\n",
    "```python\n",
    "my_gen = range(10)\n",
    "for i in my_gen:\n",
    "    print(i)\n",
    "```"
   ]
  },
  {
   "cell_type": "markdown",
   "id": "e66a8fb9",
   "metadata": {},
   "source": [
    "### break, pass, & continue"
   ]
  },
  {
   "cell_type": "markdown",
   "id": "d62997c1",
   "metadata": {},
   "source": [
    "**break**: breaks a iterative loop (for o while).  \n",
    "**pass**: is a null pointer and nothing happens when executed.  \n",
    "**continue**: makes a jump in the iteration."
   ]
  },
  {
   "cell_type": "code",
   "execution_count": null,
   "id": "3e04ed59",
   "metadata": {},
   "outputs": [],
   "source": [
    "for x in range(10):\n",
    "    if x == 5:\n",
    "        break\n",
    "print(f'When break is used, x is  {x}')\n",
    "\n",
    "for x in range(10):\n",
    "    pass\n",
    "print(f'When pass is used, x is {x}')\n",
    "\n",
    "for x in range(10):\n",
    "    if x == 5:\n",
    "        continue\n",
    "    print(f'x is:{x}')"
   ]
  },
  {
   "cell_type": "markdown",
   "id": "4a0e7eff",
   "metadata": {},
   "source": [
    "### While"
   ]
  },
  {
   "cell_type": "markdown",
   "id": "8b52e499",
   "metadata": {},
   "source": [
    "**while** command executes the code with a condition is true.\n",
    "(A combination of **for** and **if**)  \n",
    "Ex.:\n",
    "```python\n",
    "contador = 10\n",
    "while contador >= 0:\n",
    "    print(f'Countdown: {contador}')\n",
    "    contador -= 1\n",
    "```"
   ]
  },
  {
   "cell_type": "code",
   "execution_count": null,
   "id": "609ce28d",
   "metadata": {},
   "outputs": [],
   "source": [
    "# Write your own code with a while loop"
   ]
  },
  {
   "cell_type": "markdown",
   "id": "dc62ce53",
   "metadata": {},
   "source": [
    "## Def functions"
   ]
  },
  {
   "cell_type": "markdown",
   "id": "62af5dd2",
   "metadata": {},
   "source": [
    "Block of code which only runs when it i called.\n",
    "The variables inside the function are named **local** variables."
   ]
  },
  {
   "cell_type": "code",
   "execution_count": null,
   "id": "f1e0af7c",
   "metadata": {},
   "outputs": [],
   "source": [
    "def my_func():\n",
    "    print('hello')\n",
    "    \n",
    "# call your function"
   ]
  },
  {
   "cell_type": "markdown",
   "id": "5bb526e9",
   "metadata": {},
   "source": [
    "You can pass data using paramters named arguments."
   ]
  },
  {
   "cell_type": "code",
   "execution_count": null,
   "id": "6c11656a",
   "metadata": {},
   "outputs": [],
   "source": [
    "def my_func(this_name):\n",
    "    print(f'hello {this_name}')"
   ]
  },
  {
   "cell_type": "markdown",
   "id": "c547d504",
   "metadata": {},
   "source": [
    "The arguments can have predefined values."
   ]
  },
  {
   "cell_type": "code",
   "execution_count": null,
   "id": "159fd715",
   "metadata": {},
   "outputs": [],
   "source": [
    "def my_func(this_name, this_value='fine'):\n",
    "    print(f'hello {this_name}, with value {this_value}')"
   ]
  },
  {
   "cell_type": "markdown",
   "id": "32fd7f35",
   "metadata": {},
   "source": [
    "## Imports"
   ]
  },
  {
   "cell_type": "markdown",
   "id": "422ae5bc",
   "metadata": {},
   "source": [
    "Importing allows to have access to a code written in a different module."
   ]
  },
  {
   "cell_type": "code",
   "execution_count": null,
   "id": "28482e96",
   "metadata": {},
   "outputs": [],
   "source": [
    "import os\n",
    "print(os.getcwd())"
   ]
  },
  {
   "cell_type": "markdown",
   "id": "8348ec23",
   "metadata": {},
   "source": [
    "Additional details about os at: https://docs.python.org/3.9/library/os.html"
   ]
  },
  {
   "cell_type": "markdown",
   "id": "9f2bd564",
   "metadata": {},
   "source": [
    "### Libraries\n",
    "\n",
    "It is a collection of related modules. It contains bundles of code that can be used repeatedly in different programs. It makes Python Programming simpler and convenient for the programmer.\n",
    "\n",
    "Check, download, and import your favorite library."
   ]
  },
  {
   "cell_type": "code",
   "execution_count": null,
   "id": "1f14daa0",
   "metadata": {},
   "outputs": [],
   "source": [
    "# Import it here and call a module of the library"
   ]
  },
  {
   "cell_type": "markdown",
   "id": "16b38fc6",
   "metadata": {},
   "source": [
    "## Classes (Advance Python: Object Oriented Programming)"
   ]
  },
  {
   "cell_type": "markdown",
   "id": "c258211f",
   "metadata": {},
   "source": [
    "Classes are objects that provides a means of bundling data and functionality together.\n",
    "The classes has inheritance mechanism and allows multiple base classes, a derived class."
   ]
  },
  {
   "cell_type": "code",
   "execution_count": null,
   "id": "74567f93",
   "metadata": {},
   "outputs": [],
   "source": [
    "class MyPerson:\n",
    "    def __init__(self, this_name, this_age):\n",
    "        self.name = this_name\n",
    "        self.age = this_age\n",
    "    \n",
    "    def presentation(self, guest):\n",
    "        print(f'Hello {guest}, my name is {self.name}')\n"
   ]
  },
  {
   "cell_type": "code",
   "execution_count": null,
   "id": "09b56eb3",
   "metadata": {},
   "outputs": [],
   "source": [
    "# Now define your class and a child"
   ]
  },
  {
   "cell_type": "markdown",
   "id": "37842a44",
   "metadata": {},
   "source": [
    "## Libraries for Machine/Deep learning"
   ]
  },
  {
   "cell_type": "markdown",
   "id": "ea134ae6",
   "metadata": {},
   "source": [
    "**Warning**: The following line should be executed in Google Colab. If your are using a local PC, just ignore it."
   ]
  },
  {
   "cell_type": "code",
   "execution_count": null,
   "id": "04806797",
   "metadata": {},
   "outputs": [],
   "source": [
    "from google.colab import drive\n",
    "drive.mount('/content/drive')"
   ]
  },
  {
   "cell_type": "code",
   "execution_count": null,
   "id": "702069b0",
   "metadata": {},
   "outputs": [],
   "source": [
    "import numpy as np\n",
    "from matplotlib import pyplot as plt"
   ]
  },
  {
   "cell_type": "markdown",
   "id": "c4843eaa",
   "metadata": {},
   "source": [
    "Let's make a vector (an 1-D array or a group of variables of the same type which can be accessed through indexes) using random numbers."
   ]
  },
  {
   "cell_type": "code",
   "execution_count": null,
   "id": "b2432d35",
   "metadata": {},
   "outputs": [],
   "source": [
    "my_vector = np.random.randn(100)\n",
    "plt.plot(my_vector)"
   ]
  },
  {
   "cell_type": "markdown",
   "id": "49b110a6",
   "metadata": {},
   "source": [
    "Now, let's make an 2-D array (or an array of multiple dimesions)."
   ]
  },
  {
   "cell_type": "code",
   "execution_count": null,
   "id": "b7c6a105",
   "metadata": {},
   "outputs": [],
   "source": [
    "my_array = np.random.rand(100, 100)\n",
    "plt.imshow(my_array)"
   ]
  },
  {
   "cell_type": "markdown",
   "id": "d14d5a56",
   "metadata": {},
   "source": [
    "Finally, let's load an image and display it."
   ]
  },
  {
   "cell_type": "code",
   "execution_count": null,
   "id": "47e4c7ee",
   "metadata": {},
   "outputs": [],
   "source": [
    "from matplotlib import image as mpimg\n",
    "\n",
    "image = mpimg.imread('/content/drive/my_image.png')\n",
    "print(f'The image has the following dimesions: {image.shape}')\n",
    "print(image[0])\n",
    "plt.imshow(image)"
   ]
  }
 ],
 "metadata": {
  "kernelspec": {
   "display_name": "Python 3 (ipykernel)",
   "language": "python",
   "name": "python3"
  },
  "language_info": {
   "codemirror_mode": {
    "name": "ipython",
    "version": 3
   },
   "file_extension": ".py",
   "mimetype": "text/x-python",
   "name": "python",
   "nbconvert_exporter": "python",
   "pygments_lexer": "ipython3",
   "version": "3.9.7"
  }
 },
 "nbformat": 4,
 "nbformat_minor": 5
}
