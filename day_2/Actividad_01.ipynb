{
 "cells": [
  {
   "cell_type": "markdown",
   "id": "c7e3effb",
   "metadata": {},
   "source": [
    "# Introduction to Computer Vision"
   ]
  },
  {
   "cell_type": "markdown",
   "id": "fd083eeb",
   "metadata": {},
   "source": [
    "There are two main types of image processing: image filtering and image warping. Image filtering changes the range (i.e. the pixel values) of an image, so the colors of the image are altered without changing the pixel positions, while image warping changes the domain (i.e. the pixel positions) of an image, where points are mapped to other points without changing the colors."
   ]
  },
  {
   "cell_type": "markdown",
   "id": "2656774a",
   "metadata": {},
   "source": [
    "Ref:\n",
    "- https://ai.stanford.edu/~syyeung/cvweb/tutorial1.html\n",
    "\n",
    "Whether we're aware of it or not, computer vision is everywhere in our daily lives. For one, filtered photos are ubiquitous in our social media feeds, news articles, magazines, books—everywhere! Turns out, if you think of images as functions mapping locations in images to pixel values, then filters are just systems that form a new, and preferably enhanced, image from a combination of the original image's pixel values.\n",
    "\n",
    "To begin, let's install matplotlib and opencv"
   ]
  },
  {
   "cell_type": "markdown",
   "id": "bb6087b7",
   "metadata": {},
   "source": [
    "## 2D Convolution (Filtering)\n",
    "\n",
    "The mathematics for many filters can be expressed in a principal manner using 2D convolution, such as smoothing and sharpening images and detecting edges. Convolution in 2D operates on two images, with one functioning as the input image and the other, called the kernel, serving as a filter. It expresses the amount overlap of one function as it is shifted over another function, as the output image is produced by sliding the kernel over the input image.\n",
    "\n",
    "Let's load an image and display it"
   ]
  },
  {
   "cell_type": "code",
   "execution_count": null,
   "id": "71678a21",
   "metadata": {},
   "outputs": [],
   "source": [
    "from matplotlib import image as mpimg\n",
    "from matplotlib import pyplot as plt"
   ]
  },
  {
   "cell_type": "code",
   "execution_count": null,
   "id": "39e73ea2",
   "metadata": {},
   "outputs": [],
   "source": [
    "image = mpimg.imread('')\n",
    "\n",
    "plt.imshow(image)\n",
    "plt.axis('off')"
   ]
  },
  {
   "cell_type": "code",
   "execution_count": null,
   "id": "fab97fac",
   "metadata": {},
   "outputs": [],
   "source": [
    "\n",
    "# Display the size of the image and the range of the image"
   ]
  },
  {
   "cell_type": "markdown",
   "id": "f6c5c859",
   "metadata": {},
   "source": [
    "Now, display a single channel."
   ]
  },
  {
   "cell_type": "code",
   "execution_count": null,
   "id": "7acb2a3b",
   "metadata": {},
   "outputs": [],
   "source": [
    "plt.imshow(image[..., 0])"
   ]
  },
  {
   "cell_type": "markdown",
   "id": "05af486c",
   "metadata": {},
   "source": [
    "Now lets make a 2-D filter (of size 3 x 3)"
   ]
  },
  {
   "cell_type": "code",
   "execution_count": null,
   "id": "9cdc55bc",
   "metadata": {},
   "outputs": [],
   "source": [
    "my_filter = [[], [], []"
   ]
  },
  {
   "cell_type": "markdown",
   "id": "797fc334",
   "metadata": {},
   "source": [
    "Apply the convolution to the image"
   ]
  },
  {
   "cell_type": "code",
   "execution_count": null,
   "id": "63b3ba45",
   "metadata": {},
   "outputs": [],
   "source": [
    "from scipy.signal import convolve2d"
   ]
  },
  {
   "cell_type": "code",
   "execution_count": null,
   "id": "c5b2e90c",
   "metadata": {},
   "outputs": [],
   "source": [
    "blur_image = convolve2d(image, my_filter, boundary=\"symm\", mode=\"same\")\n",
    "# Display the image"
   ]
  },
  {
   "cell_type": "markdown",
   "id": "204ba1ae",
   "metadata": {},
   "source": [
    "Ref: \n",
    "- https://docs.scipy.org/doc/scipy/reference/generated/scipy.signal.convolve2d.html\n",
    "\n",
    "Compute the gradient of an image by 2D convolution with a complex Scharr operator. (Horizontal operator is real, vertical is imaginary.) Use symmetric boundary condition to avoid creating edges at the image boundaries."
   ]
  },
  {
   "cell_type": "code",
   "execution_count": null,
   "id": "09d19218",
   "metadata": {},
   "outputs": [],
   "source": [
    "import numpy as np"
   ]
  },
  {
   "cell_type": "code",
   "execution_count": null,
   "id": "97b0e05c",
   "metadata": {},
   "outputs": [],
   "source": [
    "scharr = np.array([[ -3-3j, 0-10j,  +3 -3j],\n",
    "                   [-10+0j, 0+ 0j, +10 +0j],\n",
    "                   [ -3+3j, 0+10j,  +3 +3j]])\n",
    "\n",
    "grad = convolve2d(image, scharr, boundary='symm', mode='same')\n",
    "\n",
    "# Display image\n",
    "# Display gradient magnitude\n",
    "# Display gradient orientation"
   ]
  },
  {
   "cell_type": "markdown",
   "id": "fad02caa",
   "metadata": {},
   "source": [
    "Homework ref:\n",
    "- Select filters: https://docs.opencv.org/4.x/d2/d96/tutorial_py_table_of_contents_imgproc.html\n",
    "- Load and edit: https://stackoverflow.com/a/42166299/5668152\n",
    "- Save: https://stackoverflow.com/a/52334866/5668152"
   ]
  }
 ],
 "metadata": {
  "kernelspec": {
   "display_name": "Python 3.9.7 ('base')",
   "language": "python",
   "name": "python3"
  },
  "language_info": {
   "codemirror_mode": {
    "name": "ipython",
    "version": 3
   },
   "file_extension": ".py",
   "mimetype": "text/x-python",
   "name": "python",
   "nbconvert_exporter": "python",
   "pygments_lexer": "ipython3",
   "version": "3.9.7"
  },
  "vscode": {
   "interpreter": {
    "hash": "551e9becf8fe707a6e42af77a66725df66af1e35803eb56e993681e98828e3c2"
   }
  }
 },
 "nbformat": 4,
 "nbformat_minor": 5
}
