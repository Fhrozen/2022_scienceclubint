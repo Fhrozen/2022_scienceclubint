{
 "cells": [
  {
   "cell_type": "markdown",
   "id": "c7e3effb",
   "metadata": {},
   "source": [
    "# Introduction to Audio Processing"
   ]
  },
  {
   "cell_type": "markdown",
   "id": "fd083eeb",
   "metadata": {},
   "source": [
    "Real world signals are analog, so to be processed by computer they are required to be digitalized.\n",
    "Using `numpy`, we will try to emulate a signal  `digitalization`."
   ]
  },
  {
   "cell_type": "code",
   "execution_count": null,
   "id": "52176478",
   "metadata": {},
   "outputs": [],
   "source": [
    "# Plot any signal"
   ]
  },
  {
   "cell_type": "code",
   "execution_count": null,
   "id": "d5f928f1",
   "metadata": {},
   "outputs": [],
   "source": [
    "# Now sample it"
   ]
  },
  {
   "cell_type": "code",
   "execution_count": null,
   "id": "f95427ba",
   "metadata": {},
   "outputs": [],
   "source": [
    "# Quantify it"
   ]
  },
  {
   "cell_type": "code",
   "execution_count": null,
   "id": "7cab3c46",
   "metadata": {},
   "outputs": [],
   "source": [
    "# Then encode it."
   ]
  },
  {
   "cell_type": "markdown",
   "id": "32d0a367",
   "metadata": {},
   "source": [
    "## Procesamiento de Señales de Sonido"
   ]
  },
  {
   "cell_type": "markdown",
   "id": "2656774a",
   "metadata": {},
   "source": [
    "Ref:\n",
    "- https://haythamfayek.com/2016/04/21/speech-processing-for-machine-learning.html\n",
    "\n",
    "Antes de empezar, instala colab_utils para poder grabar con tu camara.  \n",
    "El procesamiento de sonido tiene un rol importante para cualquier sistema de habla, ya sea Reconocimiento Automatico del Habla (del inglés ASR) o reconocimiento del hablante u otro. \n",
    "\n",
    "En el procesamiento de sonido, la extraccion u obtencion de ciertas caracteristicas, mejoran el procesamiento de los posteriores sistemas.  \n",
    "Para nuestros estudios, utilizaremos Log-Mel Filter-Banks."
   ]
  },
  {
   "cell_type": "code",
   "execution_count": null,
   "id": "57d977c6",
   "metadata": {},
   "outputs": [],
   "source": [
    "!pip install git+git://github.com/ricardodeazambuja/colab_utils.git"
   ]
  },
  {
   "cell_type": "markdown",
   "id": "bb6087b7",
   "metadata": {},
   "source": [
    "Primero graba tu voz"
   ]
  },
  {
   "cell_type": "code",
   "execution_count": null,
   "id": "d1a4778a",
   "metadata": {},
   "outputs": [],
   "source": [
    "from colab_utils import getAudio"
   ]
  },
  {
   "cell_type": "code",
   "execution_count": null,
   "id": "71678a21",
   "metadata": {},
   "outputs": [],
   "source": [
    "signal, fs = getAudio()"
   ]
  },
  {
   "cell_type": "markdown",
   "id": "f6c5c859",
   "metadata": {},
   "source": [
    "Ahora, plotea la señal "
   ]
  },
  {
   "cell_type": "code",
   "execution_count": null,
   "id": "fab97fac",
   "metadata": {},
   "outputs": [],
   "source": [
    "plt.plot(signal)"
   ]
  },
  {
   "cell_type": "markdown",
   "id": "e501675f",
   "metadata": {},
   "source": [
    "### Encuadre"
   ]
  },
  {
   "cell_type": "markdown",
   "id": "8e931910",
   "metadata": {},
   "source": [
    "Tomamos la senal y la cortamos en secciones sobrelapadas"
   ]
  },
  {
   "cell_type": "code",
   "execution_count": null,
   "id": "2c1cb4f7",
   "metadata": {},
   "outputs": [],
   "source": [
    "ventana = \n",
    "desplazamiento = \n",
    "signal_cuadros = list()\n",
    "for x in range(0, signal.shape[0], desplazamiento):\n",
    "    signal_cuadros.append(signal[x:x + ventana])"
   ]
  },
  {
   "cell_type": "markdown",
   "id": "2f484381",
   "metadata": {},
   "source": [
    "### Ventana\n",
    "\n",
    "Luego de seccionar la señal, utilizamos una `ventana` para reducir el impacto de la segmentacion en las propiedades estadisticas que tiene la señal. Las funciones ventanas son funciones de allanamiento que llevan los bordes a cero.  \n",
    "Para nuestros ejemplos, utilizaremos la ventana Hamming, que esta definida por la funcion:\n",
    "\n",
    "$w[n] = 0.54 - 0.46 cos(\\frac{2\\pi n}{N- 1})$\n",
    "\n"
   ]
  },
  {
   "cell_type": "code",
   "execution_count": null,
   "id": "5ef28169",
   "metadata": {},
   "outputs": [],
   "source": [
    "ventana_func = np.hamming(ventana)"
   ]
  },
  {
   "cell_type": "code",
   "execution_count": null,
   "id": "b2662794",
   "metadata": {},
   "outputs": [],
   "source": [
    "signal_cuadros = signal_cuadros * ventana_func"
   ]
  },
  {
   "cell_type": "markdown",
   "id": "501d03ef",
   "metadata": {},
   "source": [
    "### Transformada de Fourier y Espectro de Potencia\n",
    "\n",
    "Para transformar la señal en dominio de frecuencia, empleamos la transformada de fourier discreta.  \n",
    "Al aplicarla en segmentos de una señal, esta transformada toma el nombre de Transformada de Fourier  \n",
    "en periodo corto (del ingles Shot-time Fourier transform o STFT)."
   ]
  },
  {
   "cell_type": "code",
   "execution_count": null,
   "id": "91bdf385",
   "metadata": {},
   "outputs": [],
   "source": [
    "stft_signal = np.fft.rfft(signal_cuadros)"
   ]
  },
  {
   "cell_type": "markdown",
   "id": "7d1690cb",
   "metadata": {},
   "source": [
    "Ahora, extraeremos la potencia del espectro, la cual sera empleada en nuestros ejecicios."
   ]
  },
  {
   "cell_type": "code",
   "execution_count": null,
   "id": "db0e05c2",
   "metadata": {},
   "outputs": [],
   "source": [
    "mag_signal = np.abs(stft_signal)\n",
    "pow_signal = 1. / NFFT * mag_signal ** 2"
   ]
  },
  {
   "cell_type": "markdown",
   "id": "9de7317b",
   "metadata": {},
   "source": [
    "### Filterbanks.\n",
    "\n",
    "Finalmente extraemos bandas de frecuencia en la escala Mel (es una escala musical perceptual de tonos juzgados como intervalos equiespaciados por parte de observadores.)\n",
    "\n",
    "$m = 2595 \\log_{10}{1 + \\frac{f}{700}}$  \n",
    "Donde $f:$ frecuencia y $m: $banda mel"
   ]
  },
  {
   "cell_type": "code",
   "execution_count": null,
   "id": "cb648f48",
   "metadata": {},
   "outputs": [],
   "source": [
    "librosa.filters.mel(sr, n_fft, n_mels=128)"
   ]
  },
  {
   "cell_type": "markdown",
   "id": "803dce1e",
   "metadata": {},
   "source": [
    "## Usando una libreria"
   ]
  },
  {
   "cell_type": "markdown",
   "id": "49bea9d0",
   "metadata": {},
   "source": [
    "El proceso anterior puede ser simplificado utilizando la libreria `librosa`"
   ]
  },
  {
   "cell_type": "code",
   "execution_count": null,
   "id": "698f3570",
   "metadata": {},
   "outputs": [],
   "source": [
    "from librosa import stft"
   ]
  },
  {
   "cell_type": "code",
   "execution_count": null,
   "id": "641fe720",
   "metadata": {},
   "outputs": [],
   "source": []
  }
 ],
 "metadata": {
  "kernelspec": {
   "display_name": "Python 3.9.7 ('base')",
   "language": "python",
   "name": "python3"
  },
  "language_info": {
   "codemirror_mode": {
    "name": "ipython",
    "version": 3
   },
   "file_extension": ".py",
   "mimetype": "text/x-python",
   "name": "python",
   "nbconvert_exporter": "python",
   "pygments_lexer": "ipython3",
   "version": "3.9.7"
  },
  "vscode": {
   "interpreter": {
    "hash": "551e9becf8fe707a6e42af77a66725df66af1e35803eb56e993681e98828e3c2"
   }
  }
 },
 "nbformat": 4,
 "nbformat_minor": 5
}
