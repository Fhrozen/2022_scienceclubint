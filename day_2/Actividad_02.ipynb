{
 "cells": [
  {
   "cell_type": "markdown",
   "id": "c7e3effb",
   "metadata": {},
   "source": [
    "# Introduction to Audio Processing"
   ]
  },
  {
   "cell_type": "markdown",
   "id": "fd083eeb",
   "metadata": {},
   "source": [
    "Real world signals are analog, so to be processed by computer they are required to be digitalized.\n",
    "Using `numpy`, we will try to emulate a signal  `digitalization`."
   ]
  },
  {
   "cell_type": "code",
   "execution_count": null,
   "id": "52176478",
   "metadata": {},
   "outputs": [],
   "source": [
    "# Plot any signal"
   ]
  },
  {
   "cell_type": "code",
   "execution_count": null,
   "id": "d5f928f1",
   "metadata": {},
   "outputs": [],
   "source": [
    "# Now sample it"
   ]
  },
  {
   "cell_type": "code",
   "execution_count": null,
   "id": "f95427ba",
   "metadata": {},
   "outputs": [],
   "source": [
    "# Quantify it"
   ]
  },
  {
   "cell_type": "code",
   "execution_count": null,
   "id": "7cab3c46",
   "metadata": {},
   "outputs": [],
   "source": [
    "# Then encode it."
   ]
  },
  {
   "cell_type": "markdown",
   "id": "2656774a",
   "metadata": {},
   "source": [
    "Ref:\n",
    "- https://haythamfayek.com/2016/04/21/speech-processing-for-machine-learning.html\n",
    "\n",
    "Before begins, if you are using Google Colab then install colab_utils else install `soundfile, sounddevice` to record your voice with your camera.\n",
    "Sound processing has an important roll for any speech system, such as automatic speech recognition (ASR), speaker recognition, etc.\n",
    "\n",
    "Feature extraction is a important tasks in sound processing, and can help to improve the processing on subsequence systems.\n",
    "In this club, we will be using Log-Mel Filter-Banks and Short time Fourier Transform."
   ]
  },
  {
   "cell_type": "code",
   "execution_count": null,
   "id": "57d977c6",
   "metadata": {},
   "outputs": [],
   "source": [
    "!pip install git+git://github.com/ricardodeazambuja/colab_utils.git"
   ]
  },
  {
   "cell_type": "markdown",
   "id": "bb6087b7",
   "metadata": {},
   "source": [
    "Record your voice or load a sound."
   ]
  },
  {
   "cell_type": "code",
   "execution_count": null,
   "id": "d1a4778a",
   "metadata": {},
   "outputs": [],
   "source": [
    "from colab_utils import getAudio"
   ]
  },
  {
   "cell_type": "code",
   "execution_count": null,
   "id": "71678a21",
   "metadata": {},
   "outputs": [],
   "source": [
    "signal, fs = getAudio()"
   ]
  },
  {
   "cell_type": "markdown",
   "id": "f6c5c859",
   "metadata": {},
   "source": [
    "Let's display the signal"
   ]
  },
  {
   "cell_type": "code",
   "execution_count": null,
   "id": "fab97fac",
   "metadata": {},
   "outputs": [],
   "source": [
    "plt.plot(signal)"
   ]
  },
  {
   "cell_type": "markdown",
   "id": "e501675f",
   "metadata": {},
   "source": [
    "### Framing"
   ]
  },
  {
   "cell_type": "markdown",
   "id": "8e931910",
   "metadata": {},
   "source": [
    "Cut the signal in overlapped sections."
   ]
  },
  {
   "cell_type": "code",
   "execution_count": null,
   "id": "2c1cb4f7",
   "metadata": {},
   "outputs": [],
   "source": [
    "ventana = \n",
    "desplazamiento = \n",
    "signal_cuadros = list()\n",
    "for x in range(0, signal.shape[0], desplazamiento):\n",
    "    signal_cuadros.append(signal[x:x + ventana])"
   ]
  },
  {
   "cell_type": "markdown",
   "id": "2f484381",
   "metadata": {},
   "source": [
    "### windowing\n",
    "\n",
    "After framing a signal, we use a `window` to reduce the effect of the segmentation that may affect the statistical properties fo the signal. The window functions are smoothing functions that brings the edges to zero.\n",
    "For the examples, let's use the Hamming window, which is defined as:\n",
    "\n",
    "$w[n] = 0.54 - 0.46 cos(\\frac{2\\pi n}{N- 1})$\n",
    "\n"
   ]
  },
  {
   "cell_type": "code",
   "execution_count": null,
   "id": "5ef28169",
   "metadata": {},
   "outputs": [],
   "source": [
    "ventana_func = np.hamming(ventana)"
   ]
  },
  {
   "cell_type": "code",
   "execution_count": null,
   "id": "b2662794",
   "metadata": {},
   "outputs": [],
   "source": [
    "signal_cuadros = signal_cuadros * ventana_func"
   ]
  },
  {
   "cell_type": "markdown",
   "id": "501d03ef",
   "metadata": {},
   "source": [
    "### Fourier Transform and Power Spectral\n",
    "\n",
    "We use the discrete Fourier Transform to move the signal from the time-domain into the frequency-domain.\n",
    "When this transform is applied in segments of the signal, the transform is named Short-time Fourier transform (STFT)."
   ]
  },
  {
   "cell_type": "code",
   "execution_count": null,
   "id": "91bdf385",
   "metadata": {},
   "outputs": [],
   "source": [
    "stft_signal = np.fft.rfft(signal_cuadros)"
   ]
  },
  {
   "cell_type": "markdown",
   "id": "7d1690cb",
   "metadata": {},
   "source": [
    "Now, let's extract the power spectral, which we will be using later."
   ]
  },
  {
   "cell_type": "code",
   "execution_count": null,
   "id": "db0e05c2",
   "metadata": {},
   "outputs": [],
   "source": [
    "mag_signal = np.abs(stft_signal)\n",
    "pow_signal = 1. / NFFT * mag_signal ** 2"
   ]
  },
  {
   "cell_type": "markdown",
   "id": "9de7317b",
   "metadata": {},
   "source": [
    "### Filterbanks.\n",
    "\n",
    "Finally, we extract frequency bands in the Mel scale (a perceptual scale of pitches judged by listeners to be equal in distance from one another).\n",
    "\n",
    "$m = 2595 \\log_{10}{1 + \\frac{f}{700}}$  \n",
    "Where $f:$ is the frequency y $m: $ is the mel band"
   ]
  },
  {
   "cell_type": "code",
   "execution_count": null,
   "id": "cb648f48",
   "metadata": {},
   "outputs": [],
   "source": [
    "librosa.filters.mel(sr, n_fft, n_mels=128)"
   ]
  },
  {
   "cell_type": "markdown",
   "id": "803dce1e",
   "metadata": {},
   "source": [
    "## Using a library"
   ]
  },
  {
   "cell_type": "markdown",
   "id": "49bea9d0",
   "metadata": {},
   "source": [
    "We can reduce the previous processing using the library `librosa`"
   ]
  },
  {
   "cell_type": "code",
   "execution_count": null,
   "id": "698f3570",
   "metadata": {},
   "outputs": [],
   "source": [
    "from librosa import stft"
   ]
  },
  {
   "cell_type": "code",
   "execution_count": null,
   "id": "42db4801",
   "metadata": {},
   "outputs": [],
   "source": []
  },
  {
   "cell_type": "markdown",
   "id": "ea54e7ba",
   "metadata": {},
   "source": [
    "## Audio effects.\n",
    "\n",
    "Ref:\n",
    "- https://github.com/nxbyte/PythonAudioEffects\n",
    "\n",
    "Let's add some effects to the an audio signal."
   ]
  },
  {
   "cell_type": "code",
   "execution_count": null,
   "id": "db826b96",
   "metadata": {},
   "outputs": [],
   "source": [
    "# Resample a signal"
   ]
  },
  {
   "cell_type": "markdown",
   "id": "826c391e",
   "metadata": {},
   "source": [
    "Homework ref:\n",
    "- https://github.com/nxbyte/PythonAudioEffects"
   ]
  }
 ],
 "metadata": {
  "kernelspec": {
   "display_name": "Python 3.9.7 ('base')",
   "language": "python",
   "name": "python3"
  },
  "language_info": {
   "codemirror_mode": {
    "name": "ipython",
    "version": 3
   },
   "file_extension": ".py",
   "mimetype": "text/x-python",
   "name": "python",
   "nbconvert_exporter": "python",
   "pygments_lexer": "ipython3",
   "version": "3.9.7"
  },
  "vscode": {
   "interpreter": {
    "hash": "551e9becf8fe707a6e42af77a66725df66af1e35803eb56e993681e98828e3c2"
   }
  }
 },
 "nbformat": 4,
 "nbformat_minor": 5
}
